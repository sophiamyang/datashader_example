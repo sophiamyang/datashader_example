{
 "cells": [
  {
   "cell_type": "code",
   "execution_count": null,
   "id": "4d4e0396-af07-4486-b2c8-cab50cfb014e",
   "metadata": {},
   "outputs": [],
   "source": [
    "import hvplot.pandas\n",
    "import holoviews as hv, pandas as pd, colorcet as cc\n",
    "from holoviews.element.tiles import EsriImagery\n",
    "from holoviews.operation.datashader import datashade\n",
    "hv.extension('bokeh')"
   ]
  },
  {
   "cell_type": "markdown",
   "id": "de76e33d-15a5-4522-ac7d-5dc01eff4889",
   "metadata": {},
   "source": [
    "# Read in data"
   ]
  },
  {
   "cell_type": "code",
   "execution_count": null,
   "id": "f60cabf8-1707-44e3-8c9a-edbf590939b9",
   "metadata": {},
   "outputs": [],
   "source": [
    "df = pd.read_parquet(\n",
    "    'https://s3.amazonaws.com/datashader-data/nyc_taxi_wide.parq',\n",
    "    columns = ['dropoff_x', 'dropoff_y']\n",
    ")"
   ]
  },
  {
   "cell_type": "code",
   "execution_count": null,
   "id": "2e9f14f0-c9e8-4b73-9912-b511c2cad176",
   "metadata": {},
   "outputs": [],
   "source": [
    "len(df)"
   ]
  },
  {
   "cell_type": "code",
   "execution_count": null,
   "id": "3482e739-4a9d-44ac-99b3-069eb307a829",
   "metadata": {},
   "outputs": [],
   "source": [
    "df.head()"
   ]
  },
  {
   "cell_type": "code",
   "execution_count": null,
   "id": "aaf2f294",
   "metadata": {},
   "outputs": [],
   "source": [
    "%%time\n",
    "# it's so slow and plot looks terrible when I use pandas default .plot\n",
    "df.plot.scatter('dropoff_x', 'dropoff_y')"
   ]
  },
  {
   "cell_type": "markdown",
   "id": "55071145-9013-49d3-a69e-1b4f4daeb490",
   "metadata": {},
   "source": [
    "# Plotting"
   ]
  },
  {
   "cell_type": "code",
   "execution_count": null,
   "id": "bda9d12c-a71c-4793-b252-14a8152f3e68",
   "metadata": {},
   "outputs": [],
   "source": [
    "%%time\n",
    "map_tiles = EsriImagery().opts(alpha=0.5, width=900, height=480, bgcolor='black')\n",
    "points = hv.Points(df, ['dropoff_x', 'dropoff_y'])\n",
    "taxi_trips = datashade(points, cmap=cc.fire, width=900, height=480)\n",
    "map_tiles * taxi_trips"
   ]
  },
  {
   "cell_type": "code",
   "execution_count": null,
   "id": "f54c7439",
   "metadata": {},
   "outputs": [],
   "source": []
  },
  {
   "cell_type": "code",
   "execution_count": null,
   "id": "05aa987d",
   "metadata": {},
   "outputs": [],
   "source": [
    "map_tiles = EsriImagery().opts(alpha=0.5, width=900, height=480, bgcolor='black')\n",
    "plot = df.hvplot(\n",
    "    'dropoff_x',\n",
    "    'dropoff_y',\n",
    "    kind='scatter',\n",
    "    rasterize=True,\n",
    "    cmap=cc.fire,\n",
    "    cnorm='eq_hist'\n",
    ")\n",
    "map_tiles * plot"
   ]
  },
  {
   "cell_type": "markdown",
   "id": "a957c36a-4546-44bd-806d-b9d84b6400df",
   "metadata": {
    "tags": []
   },
   "source": [
    "# How does Datashader work? \n"
   ]
  },
  {
   "cell_type": "code",
   "execution_count": null,
   "id": "4c00c56f-da8f-47ff-82d6-113cecce9693",
   "metadata": {},
   "outputs": [],
   "source": [
    "import datashader as ds\n",
    "import datashader.transfer_functions as tf\n",
    "from holoviews.operation.datashader import rasterize"
   ]
  },
  {
   "cell_type": "markdown",
   "id": "bc8386a2-eba1-4754-b97b-42fa9d6bb28e",
   "metadata": {},
   "source": [
    "## Projection"
   ]
  },
  {
   "cell_type": "code",
   "execution_count": null,
   "id": "71425864-9d60-4e99-ada0-33579046ed28",
   "metadata": {},
   "outputs": [],
   "source": [
    "canvas = ds.Canvas(plot_width=900, plot_height=480)"
   ]
  },
  {
   "cell_type": "code",
   "execution_count": null,
   "id": "4068c200-764a-4328-9978-d67b85d650f7",
   "metadata": {},
   "outputs": [],
   "source": [
    "canvas"
   ]
  },
  {
   "cell_type": "markdown",
   "id": "d99bbc96-ddb7-49cb-aab2-bf2bf388979e",
   "metadata": {},
   "source": [
    "## Aggregation"
   ]
  },
  {
   "cell_type": "code",
   "execution_count": null,
   "id": "07c8eda7-eb51-467c-a39c-86de5bdce5a2",
   "metadata": {},
   "outputs": [],
   "source": [
    "canvas.points(df, 'dropoff_x', 'dropoff_y', agg=ds.count())"
   ]
  },
  {
   "cell_type": "markdown",
   "id": "9c2d48cf-7405-4549-8b05-a298ab6ed048",
   "metadata": {},
   "source": [
    "## Transformation (optional)"
   ]
  },
  {
   "cell_type": "code",
   "execution_count": null,
   "id": "5f1be546-ca25-4824-b52c-64a612a5d7f0",
   "metadata": {},
   "outputs": [],
   "source": [
    "import numpy as np"
   ]
  },
  {
   "cell_type": "code",
   "execution_count": null,
   "id": "5c6fc66c-ef11-41c1-9c84-47ec6aaa5c35",
   "metadata": {},
   "outputs": [],
   "source": [
    "np.power(canvas.points(df, 'dropoff_x', 'dropoff_y', agg=ds.count()),2)"
   ]
  },
  {
   "cell_type": "markdown",
   "id": "4a4c56f7-85ac-4176-a702-c517506743cf",
   "metadata": {},
   "source": [
    "## Colormapping"
   ]
  },
  {
   "cell_type": "code",
   "execution_count": null,
   "id": "639bad04-299c-4dc8-a877-7bf956270b70",
   "metadata": {},
   "outputs": [],
   "source": [
    "tf.set_background(\n",
    "    tf.shade(\n",
    "        canvas.points(df, 'dropoff_x', 'dropoff_y', agg=ds.count()),\n",
    "        cmap=cc.fire\n",
    "    ),\n",
    "    'black'\n",
    ")"
   ]
  },
  {
   "cell_type": "markdown",
   "id": "606681c5-a24e-408a-ade9-0a78135af060",
   "metadata": {},
   "source": [
    "## Embedding"
   ]
  },
  {
   "cell_type": "code",
   "execution_count": null,
   "id": "69d79b4d-bea8-48a2-b30d-a4a263a865a4",
   "metadata": {},
   "outputs": [],
   "source": [
    "map_tiles = EsriImagery().opts(alpha=0.5, width=900, height=480, bgcolor='black')\n",
    "points = hv.Points(df, ['dropoff_x', 'dropoff_y'])\n",
    "ropts = dict(tools=['hover'], colorbar=True, colorbar_position='bottom', cmap=cc.fire, cnorm='eq_hist')\n",
    "taxi_trips = rasterize(points).opts(**ropts)\n",
    "map_tiles * taxi_trips"
   ]
  },
  {
   "cell_type": "code",
   "execution_count": null,
   "id": "175a734c",
   "metadata": {},
   "outputs": [],
   "source": []
  }
 ],
 "metadata": {
  "kernelspec": {
   "display_name": "Python 3 (ipykernel)",
   "language": "python",
   "name": "python3"
  },
  "language_info": {
   "codemirror_mode": {
    "name": "ipython",
    "version": 3
   },
   "file_extension": ".py",
   "mimetype": "text/x-python",
   "name": "python",
   "nbconvert_exporter": "python",
   "pygments_lexer": "ipython3",
   "version": "3.9.6"
  }
 },
 "nbformat": 4,
 "nbformat_minor": 5
}
